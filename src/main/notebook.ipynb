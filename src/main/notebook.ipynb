{
 "cells": [
  {
   "cell_type": "markdown",
   "source": [
    "# Demonstation of raytracing in Kotlin"
   ],
   "metadata": {
    "collapsed": false
   }
  },
  {
   "cell_type": "code",
   "execution_count": null,
   "outputs": [],
   "source": [
    "%use lets-plot"
   ],
   "metadata": {
    "collapsed": false,
    "is_executing": true,
    "ExecuteTime": {
     "start_time": "2024-05-05T11:57:08.977847700Z"
    }
   }
  },
  {
   "cell_type": "code",
   "execution_count": null,
   "outputs": [],
   "source": [
    "class Point(\n",
    "    var x: Float = 0f,\n",
    "    var y: Float = 0f,\n",
    "    var z: Float = 0f\n",
    ") {\n",
    "    fun getPointOnScreen(cameraPoint: Point): Pair<Float, Float> {\n",
    "\n",
    "        if (z <= 0) {\n",
    "            throw IllegalArgumentException(\"The point is behind the screen\")\n",
    "        }\n",
    "\n",
    "        // The focal length is the distance between the camera and the screen.\n",
    "        val focalLength = cameraPoint.z * -1\n",
    "\n",
    "        // The distance between the point and the camera.\n",
    "        val zDistance = z - cameraPoint.z\n",
    "\n",
    "        // the x and y coordinates of the point on the screen.\n",
    "        val xProjected = (x * focalLength) / (focalLength + zDistance)\n",
    "\n",
    "        val yProjected = (y * focalLength) / (focalLength + zDistance)\n",
    "\n",
    "        return Pair(xProjected, yProjected)\n",
    "    }\n",
    "}\n",
    "\n",
    "// Defines the point of the camera in 3D space.\n",
    "// The camera has to be in front if the screen whitch means that the z coordinate has to be negative.\n",
    "val camera = Point(0f, 0f, -1f)\n",
    "\n",
    "// Defines all the points of a square in 3D space.\n",
    "val square: List<Point> = listOf(\n",
    "    Point(2f, -2f, 5f),\n",
    "    Point(2f, 2f, 5f),\n",
    "    Point(-2f, 2f, 5f),\n",
    "    Point(-2f, -2f, 5f),\n",
    "    Point(2f, -2f, 7f),\n",
    "    Point(2f, 2f, 7f),\n",
    "    Point(-2f, 2f, 7f),\n",
    "    Point(-2f, -2f, 7f),\n",
    ")\n",
    "\n",
    "// Get the points coordinates on the screen.\n",
    "val pointsOnScreen = square.map { it.getPointOnScreen(camera) }\n",
    "\n",
    "\n",
    "// Display the data on a plot\n",
    "val data = mapOf(\"x\" to pointsOnScreen.map { it.first }, \"y\" to pointsOnScreen.map { it.second })\n",
    "val plot = letsPlot(data) { x = \"x\"; y = \"y\" }\n",
    "val points = geomPoint()\n",
    "plot + points\n",
    "\n",
    "\n"
   ],
   "metadata": {
    "collapsed": false,
    "is_executing": true
   }
  }
 ],
 "metadata": {
  "kernelspec": {
   "display_name": "Kotlin",
   "language": "kotlin",
   "name": "kotlin"
  },
  "language_info": {
   "name": "kotlin",
   "version": "1.9.0",
   "mimetype": "text/x-kotlin",
   "file_extension": ".kt",
   "pygments_lexer": "kotlin",
   "codemirror_mode": "text/x-kotlin",
   "nbconvert_exporter": ""
  }
 },
 "nbformat": 4,
 "nbformat_minor": 0
}
