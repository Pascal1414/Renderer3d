{
 "cells": [
  {
   "cell_type": "markdown",
   "source": [
    "# Demonstration of Rendering a 3d Object in Kotlin"
   ],
   "metadata": {
    "collapsed": false
   }
  },
  {
   "cell_type": "code",
   "execution_count": 4,
   "outputs": [
    {
     "data": {
      "text/html": "   <div id=\"DFyCGg\"></div>\n   <script type=\"text/javascript\" data-lets-plot-script=\"library\">\n       if(!window.letsPlotCallQueue) {\n           window.letsPlotCallQueue = [];\n       }; \n       window.letsPlotCall = function(f) {\n           window.letsPlotCallQueue.push(f);\n       };\n       (function() {\n           var script = document.createElement(\"script\");\n           script.type = \"text/javascript\";\n           script.src = \"https://cdn.jsdelivr.net/gh/JetBrains/lets-plot@v4.2.0/js-package/distr/lets-plot.min.js\";\n           script.onload = function() {\n               window.letsPlotCall = function(f) {f();};\n               window.letsPlotCallQueue.forEach(function(f) {f();});\n               window.letsPlotCallQueue = [];\n               \n               \n           };\n           script.onerror = function(event) {\n               window.letsPlotCall = function(f) {};\n               window.letsPlotCallQueue = [];\n               var div = document.createElement(\"div\");\n               div.style.color = 'darkred';\n               div.textContent = 'Error loading Lets-Plot JS';\n               document.getElementById(\"DFyCGg\").appendChild(div);\n           };\n           var e = document.getElementById(\"DFyCGg\");\n           e.appendChild(script);\n       })();\n   </script>"
     },
     "metadata": {},
     "output_type": "display_data"
    }
   ],
   "source": [
    "%use lets-plot"
   ],
   "metadata": {
    "collapsed": false,
    "ExecuteTime": {
     "end_time": "2024-05-06T14:32:59.381192500Z",
     "start_time": "2024-05-06T14:32:57.551177400Z"
    }
   }
  },
  {
   "cell_type": "code",
   "execution_count": 8,
   "outputs": [
    {
     "data": {
      "text/html": "   <div id=\"SADCTr\"></div>\n   <script type=\"text/javascript\" data-lets-plot-script=\"plot\">\n       (function() {\n           var plotSpec={\n\"mapping\":{\n\"x\":\"x\",\n\"y\":\"y\"\n},\n\"kind\":\"plot\",\n\"scales\":[],\n\"layers\":[{\n\"mapping\":{\n},\n\"stat\":\"identity\",\n\"data\":{\n\"x\":[1.0,1.0],\n\"y\":[0.3333333432674408,1.0]\n},\n\"position\":\"identity\",\n\"geom\":\"path\"\n},{\n\"mapping\":{\n},\n\"stat\":\"identity\",\n\"data\":{\n\"x\":[1.0,0.3333333432674408],\n\"y\":[1.0,1.0]\n},\n\"position\":\"identity\",\n\"geom\":\"path\"\n},{\n\"mapping\":{\n},\n\"stat\":\"identity\",\n\"data\":{\n\"x\":[0.3333333432674408,0.3333333432674408],\n\"y\":[1.0,0.3333333432674408]\n},\n\"position\":\"identity\",\n\"geom\":\"path\"\n},{\n\"mapping\":{\n},\n\"stat\":\"identity\",\n\"data\":{\n\"x\":[0.3333333432674408,1.0],\n\"y\":[0.3333333432674408,0.3333333432674408]\n},\n\"position\":\"identity\",\n\"geom\":\"path\"\n},{\n\"mapping\":{\n},\n\"stat\":\"identity\",\n\"data\":{\n\"x\":[0.75,0.75],\n\"y\":[0.25,0.75]\n},\n\"position\":\"identity\",\n\"geom\":\"path\"\n},{\n\"mapping\":{\n},\n\"stat\":\"identity\",\n\"data\":{\n\"x\":[0.75,0.25],\n\"y\":[0.75,0.75]\n},\n\"position\":\"identity\",\n\"geom\":\"path\"\n},{\n\"mapping\":{\n},\n\"stat\":\"identity\",\n\"data\":{\n\"x\":[0.25,0.25],\n\"y\":[0.75,0.25]\n},\n\"position\":\"identity\",\n\"geom\":\"path\"\n},{\n\"mapping\":{\n},\n\"stat\":\"identity\",\n\"data\":{\n\"x\":[0.25,0.75],\n\"y\":[0.25,0.25]\n},\n\"position\":\"identity\",\n\"geom\":\"path\"\n},{\n\"mapping\":{\n},\n\"stat\":\"identity\",\n\"data\":{\n\"x\":[1.0,0.75],\n\"y\":[0.3333333432674408,0.25]\n},\n\"position\":\"identity\",\n\"geom\":\"path\"\n},{\n\"mapping\":{\n},\n\"stat\":\"identity\",\n\"data\":{\n\"x\":[1.0,0.75],\n\"y\":[1.0,0.75]\n},\n\"position\":\"identity\",\n\"geom\":\"path\"\n},{\n\"mapping\":{\n},\n\"stat\":\"identity\",\n\"data\":{\n\"x\":[0.3333333432674408,0.25],\n\"y\":[1.0,0.75]\n},\n\"position\":\"identity\",\n\"geom\":\"path\"\n},{\n\"mapping\":{\n},\n\"stat\":\"identity\",\n\"data\":{\n\"x\":[0.3333333432674408,0.25],\n\"y\":[0.3333333432674408,0.25]\n},\n\"position\":\"identity\",\n\"geom\":\"path\"\n},{\n\"mapping\":{\n},\n\"stat\":\"identity\",\n\"data\":{\n\"x\":[0.6000000238418579,0.6000000238418579],\n\"y\":[0.20000000298023224,0.6000000238418579]\n},\n\"position\":\"identity\",\n\"geom\":\"path\"\n},{\n\"mapping\":{\n},\n\"stat\":\"identity\",\n\"data\":{\n\"x\":[0.6000000238418579,0.20000000298023224],\n\"y\":[0.6000000238418579,0.6000000238418579]\n},\n\"position\":\"identity\",\n\"geom\":\"path\"\n},{\n\"mapping\":{\n},\n\"stat\":\"identity\",\n\"data\":{\n\"x\":[0.20000000298023224,0.20000000298023224],\n\"y\":[0.6000000238418579,0.20000000298023224]\n},\n\"position\":\"identity\",\n\"geom\":\"path\"\n},{\n\"mapping\":{\n},\n\"stat\":\"identity\",\n\"data\":{\n\"x\":[0.20000000298023224,0.6000000238418579],\n\"y\":[0.20000000298023224,0.20000000298023224]\n},\n\"position\":\"identity\",\n\"geom\":\"path\"\n},{\n\"mapping\":{\n},\n\"stat\":\"identity\",\n\"data\":{\n\"x\":[0.5,0.5],\n\"y\":[0.1666666716337204,0.5]\n},\n\"position\":\"identity\",\n\"geom\":\"path\"\n},{\n\"mapping\":{\n},\n\"stat\":\"identity\",\n\"data\":{\n\"x\":[0.5,0.1666666716337204],\n\"y\":[0.5,0.5]\n},\n\"position\":\"identity\",\n\"geom\":\"path\"\n},{\n\"mapping\":{\n},\n\"stat\":\"identity\",\n\"data\":{\n\"x\":[0.1666666716337204,0.1666666716337204],\n\"y\":[0.5,0.1666666716337204]\n},\n\"position\":\"identity\",\n\"geom\":\"path\"\n},{\n\"mapping\":{\n},\n\"stat\":\"identity\",\n\"data\":{\n\"x\":[0.1666666716337204,0.5],\n\"y\":[0.1666666716337204,0.1666666716337204]\n},\n\"position\":\"identity\",\n\"geom\":\"path\"\n},{\n\"mapping\":{\n},\n\"stat\":\"identity\",\n\"data\":{\n\"x\":[0.6000000238418579,0.5],\n\"y\":[0.20000000298023224,0.1666666716337204]\n},\n\"position\":\"identity\",\n\"geom\":\"path\"\n},{\n\"mapping\":{\n},\n\"stat\":\"identity\",\n\"data\":{\n\"x\":[0.6000000238418579,0.5],\n\"y\":[0.6000000238418579,0.5]\n},\n\"position\":\"identity\",\n\"geom\":\"path\"\n},{\n\"mapping\":{\n},\n\"stat\":\"identity\",\n\"data\":{\n\"x\":[0.20000000298023224,0.1666666716337204],\n\"y\":[0.6000000238418579,0.5]\n},\n\"position\":\"identity\",\n\"geom\":\"path\"\n},{\n\"mapping\":{\n},\n\"stat\":\"identity\",\n\"data\":{\n\"x\":[0.20000000298023224,0.1666666716337204],\n\"y\":[0.20000000298023224,0.1666666716337204]\n},\n\"position\":\"identity\",\n\"geom\":\"path\"\n}]\n};\n           var plotContainer = document.getElementById(\"SADCTr\");\n           window.letsPlotCall(function() {{\n               LetsPlot.buildPlotFromProcessedSpecs(plotSpec, -1, -1, plotContainer);\n           }});\n       })();    \n   </script>"
     },
     "execution_count": 8,
     "metadata": {},
     "output_type": "execute_result"
    }
   ],
   "source": [
    "class Point(\n",
    "    var x: Float = 0f,\n",
    "    var y: Float = 0f,\n",
    "    var z: Float = 0f\n",
    ") {\n",
    "    fun getPointOnScreen(cameraPoint: Point): Pair<Float, Float> {\n",
    "\n",
    "        if (z < 0) {\n",
    "            throw IllegalArgumentException(\"The point is behind the screen\")\n",
    "        }\n",
    "\n",
    "        // The focal length is the distance between the camera and the screen.\n",
    "        val focalLength = cameraPoint.z * -1\n",
    "\n",
    "        // The distance between the point and the camera.\n",
    "        val zDistance = z - cameraPoint.z\n",
    "\n",
    "        // the x and y coordinates of the point on the screen.\n",
    "        val xProjected = ((x - cameraPoint.x) * focalLength) / (focalLength + zDistance)\n",
    "\n",
    "        val yProjected = ((y - cameraPoint.y) * focalLength) / (focalLength + zDistance)\n",
    "\n",
    "        return Pair(xProjected, yProjected)\n",
    "    }\n",
    "}\n",
    "\n",
    "class Line {\n",
    "    val points: List<Point>\n",
    "\n",
    "    constructor(startPoint: Point, endPoint: Point) {\n",
    "        points = listOf(startPoint, endPoint)\n",
    "    }\n",
    "\n",
    "    fun getPointsOnScreen(cameraPoint: Point): List<Pair<Float, Float>> {\n",
    "        return points.map { it.getPointOnScreen(cameraPoint) }\n",
    "    }\n",
    "\n",
    "    fun getGeomPath(cameraPoint: Point): geomPath {\n",
    "        val pointsOnScreen = getPointsOnScreen(cameraPoint)\n",
    "        return geomPath(\n",
    "            mapOf(\n",
    "                \"x\" to pointsOnScreen.map { it.first },\n",
    "                \"y\" to pointsOnScreen.map { it.second })\n",
    "        )\n",
    "    }\n",
    "}\n",
    "\n",
    "class Cube {\n",
    "    val points: List<Point>\n",
    "    val lines: List<Line>\n",
    "\n",
    "    constructor(centerPoint: Point, size: Float) {\n",
    "        points = listOf(\n",
    "            Point(centerPoint.x + size, centerPoint.y - size, centerPoint.z),\n",
    "            Point(centerPoint.x + size, centerPoint.y + size, centerPoint.z),\n",
    "            Point(centerPoint.x - size, centerPoint.y + size, centerPoint.z),\n",
    "            Point(centerPoint.x - size, centerPoint.y - size, centerPoint.z),\n",
    "            Point(centerPoint.x + size, centerPoint.y - size, centerPoint.z + size),\n",
    "            Point(centerPoint.x + size, centerPoint.y + size, centerPoint.z + size),\n",
    "            Point(centerPoint.x - size, centerPoint.y + size, centerPoint.z + size),\n",
    "            Point(centerPoint.x - size, centerPoint.y - size, centerPoint.z + size),\n",
    "        )\n",
    "        lines = listOf(\n",
    "            Line(points[0], points[1]),\n",
    "            Line(points[1], points[2]),\n",
    "            Line(points[2], points[3]),\n",
    "            Line(points[3], points[0]),\n",
    "            Line(points[4], points[5]),\n",
    "            Line(points[5], points[6]),\n",
    "            Line(points[6], points[7]),\n",
    "            Line(points[7], points[4]),\n",
    "            Line(points[0], points[4]),\n",
    "            Line(points[1], points[5]),\n",
    "            Line(points[2], points[6]),\n",
    "            Line(points[3], points[7]),\n",
    "        )\n",
    "    }\n",
    "\n",
    "    fun getPointsOnScreen(cameraPoint: Point): List<Pair<Float, Float>> {\n",
    "        return points.map { it.getPointOnScreen(cameraPoint) }\n",
    "    }\n",
    "\n",
    "    fun getGeomPaths(cameraPoint: Point): List<geomPath> {\n",
    "        return lines.map { it.getGeomPath(cameraPoint) }\n",
    "    }\n",
    "}\n",
    "\n",
    "// Defines the point of the camera in 3D space.\n",
    "// The camera has to be in front if the screen whitch means that the z coordinate has to be negative.\n",
    "val camera = Point(-2f, -2f, -1f)\n",
    "\n",
    "\n",
    "// Create a square in the 3D space\n",
    "val cube1 = Cube(Point(0f, 0f, 1f), 1f)\n",
    "val cube2 = Cube(Point(0f, 0f, 3f), 1f)\n",
    "\n",
    "\n",
    "// Create a 2d plot that represents the screen with x and y axis\n",
    "val plot = letsPlot() { x = \"x\"; y = \"y\" }\n",
    "\n",
    "val cubeGeomPaths = cube1.getGeomPaths(camera)\n",
    "val cubeGeomPaths2 = cube2.getGeomPaths(camera)\n",
    "\n",
    "\n",
    "// Plot the lines on the screen\n",
    "plot +\n",
    "        cubeGeomPaths[0] + cubeGeomPaths[1] + cubeGeomPaths[2] + cubeGeomPaths[3] + cubeGeomPaths[4] + cubeGeomPaths[5] + cubeGeomPaths[6] + cubeGeomPaths[7] + cubeGeomPaths[8] + cubeGeomPaths[9] + cubeGeomPaths[10] + cubeGeomPaths[11] +\n",
    "        cubeGeomPaths2[0] + cubeGeomPaths2[1] + cubeGeomPaths2[2] + cubeGeomPaths2[3] + cubeGeomPaths2[4] + cubeGeomPaths2[5] + cubeGeomPaths2[6] + cubeGeomPaths2[7] + cubeGeomPaths2[8] + cubeGeomPaths2[9] + cubeGeomPaths2[10] + cubeGeomPaths2[11]\n",
    "\n",
    "\n"
   ],
   "metadata": {
    "collapsed": false,
    "ExecuteTime": {
     "end_time": "2024-05-06T14:33:40.955231600Z",
     "start_time": "2024-05-06T14:33:39.487267800Z"
    }
   }
  },
  {
   "cell_type": "markdown",
   "source": [
    "## Explanation\n",
    "The graph helps to explain the concept.\n",
    "![Setup](https://raw.githubusercontent.com/Pascal1414/Renderer3d/main/setup.svg)\n",
    "\n",
    "Within the setup are a Screen, a Camera, and Two points. The objective now lies in determining the positions of these points on the screen, namely Contact Point A and Contact Point B.\n",
    "\n",
    "### Example  \n",
    "To streamline the issue, let's narrow our focus to Point A and solely consider its position along the x-axis on the screen. For a visual representation, envision observing it from above, akin to a Top View.\n",
    "\n",
    "![Top View](https://raw.githubusercontent.com/Pascal1414/Renderer3d/main/topView.svg)\n",
    "\n",
    "We can then establish the subsequent formula to ascertain the x-coordinate of the point on the screen:\n",
    "\n",
    "$$\n",
    "xProjected = \\frac{focalLength * xOffset}{focalLength + zDistance}\n",
    "$$\n",
    "\n",
    "The same thing needs to be done for the y position of the point and there we have the screen coordinates of the point A. That needs to be done for all the points that we want to display. Now we can draw lines between the points to display the edges. And thats how a 3d shape can be rendered on a 2d screen."
   ],
   "metadata": {
    "collapsed": false
   }
  },
  {
   "cell_type": "code",
   "outputs": [],
   "source": [],
   "metadata": {
    "collapsed": false,
    "ExecuteTime": {
     "end_time": "2024-05-06T14:33:00.327853600Z",
     "start_time": "2024-05-06T14:33:00.321449600Z"
    }
   },
   "execution_count": 6
  }
 ],
 "metadata": {
  "kernelspec": {
   "display_name": "Kotlin",
   "language": "kotlin",
   "name": "kotlin"
  },
  "language_info": {
   "name": "kotlin",
   "version": "1.9.0",
   "mimetype": "text/x-kotlin",
   "file_extension": ".kt",
   "pygments_lexer": "kotlin",
   "codemirror_mode": "text/x-kotlin",
   "nbconvert_exporter": ""
  }
 },
 "nbformat": 4,
 "nbformat_minor": 0
}
