{
 "cells": [
  {
   "cell_type": "markdown",
   "source": [
    "# Demonstation of raytracing in Kotlin"
   ],
   "metadata": {
    "collapsed": false
   }
  },
  {
   "cell_type": "code",
   "execution_count": 51,
   "outputs": [
    {
     "data": {
      "text/html": "   <div id=\"GvGALy\"></div>\n   <script type=\"text/javascript\" data-lets-plot-script=\"library\">\n       if(!window.letsPlotCallQueue) {\n           window.letsPlotCallQueue = [];\n       }; \n       window.letsPlotCall = function(f) {\n           window.letsPlotCallQueue.push(f);\n       };\n       (function() {\n           var script = document.createElement(\"script\");\n           script.type = \"text/javascript\";\n           script.src = \"https://cdn.jsdelivr.net/gh/JetBrains/lets-plot@v4.2.0/js-package/distr/lets-plot.min.js\";\n           script.onload = function() {\n               window.letsPlotCall = function(f) {f();};\n               window.letsPlotCallQueue.forEach(function(f) {f();});\n               window.letsPlotCallQueue = [];\n               \n               \n           };\n           script.onerror = function(event) {\n               window.letsPlotCall = function(f) {};\n               window.letsPlotCallQueue = [];\n               var div = document.createElement(\"div\");\n               div.style.color = 'darkred';\n               div.textContent = 'Error loading Lets-Plot JS';\n               document.getElementById(\"GvGALy\").appendChild(div);\n           };\n           var e = document.getElementById(\"GvGALy\");\n           e.appendChild(script);\n       })();\n   </script>"
     },
     "metadata": {},
     "output_type": "display_data"
    }
   ],
   "source": [
    "%use lets-plot"
   ],
   "metadata": {
    "collapsed": false,
    "ExecuteTime": {
     "end_time": "2024-05-06T10:42:52.368520100Z",
     "start_time": "2024-05-06T10:42:50.043500700Z"
    }
   }
  },
  {
   "cell_type": "code",
   "execution_count": 60,
   "outputs": [
    {
     "data": {
      "text/html": "   <div id=\"OQs0Tr\"></div>\n   <script type=\"text/javascript\" data-lets-plot-script=\"plot\">\n       (function() {\n           var plotSpec={\n\"mapping\":{\n\"x\":\"x\",\n\"y\":\"y\"\n},\n\"kind\":\"plot\",\n\"scales\":[],\n\"layers\":[{\n\"mapping\":{\n},\n\"stat\":\"identity\",\n\"data\":{\n\"x\":[-1.0,-1.0],\n\"y\":[2.5,0.0]\n},\n\"position\":\"identity\",\n\"geom\":\"path\"\n},{\n\"mapping\":{\n},\n\"stat\":\"identity\",\n\"data\":{\n\"x\":[-0.3333333432674408,-0.3333333432674408],\n\"y\":[0.8333333134651184,0.0]\n},\n\"position\":\"identity\",\n\"geom\":\"path\"\n}]\n};\n           var plotContainer = document.getElementById(\"OQs0Tr\");\n           window.letsPlotCall(function() {{\n               LetsPlot.buildPlotFromProcessedSpecs(plotSpec, -1, -1, plotContainer);\n           }});\n       })();    \n   </script>"
     },
     "execution_count": 60,
     "metadata": {},
     "output_type": "execute_result"
    }
   ],
   "source": [
    "class Point(\n",
    "    var x: Float = 0f,\n",
    "    var y: Float = 0f,\n",
    "    var z: Float = 0f\n",
    ") {\n",
    "    fun getPointOnScreen(cameraPoint: Point): Pair<Float, Float> {\n",
    "\n",
    "        if (z < 0) {\n",
    "            throw IllegalArgumentException(\"The point is behind the screen\")\n",
    "        }\n",
    "\n",
    "        // The focal length is the distance between the camera and the screen.\n",
    "        val focalLength = cameraPoint.z * -1\n",
    "\n",
    "        // The distance between the point and the camera.\n",
    "        val zDistance = z - cameraPoint.z\n",
    "\n",
    "        // the x and y coordinates of the point on the screen.\n",
    "        val xProjected = ((x - cameraPoint.x) * focalLength) / (focalLength + zDistance)\n",
    "\n",
    "        val yProjected = ((y - cameraPoint.y) * focalLength) / (focalLength + zDistance)\n",
    "\n",
    "        return Pair(xProjected, yProjected)\n",
    "    }\n",
    "}\n",
    "\n",
    "class Line {\n",
    "    val points: List<Point>\n",
    "\n",
    "    constructor(startPoint: Point, endPoint: Point) {\n",
    "        points = listOf(startPoint, endPoint)\n",
    "    }\n",
    "\n",
    "    fun getPointsOnScreen(cameraPoint: Point): List<Pair<Float, Float>> {\n",
    "        return points.map { it.getPointOnScreen(cameraPoint) }\n",
    "    }\n",
    "\n",
    "    fun getGeomPath(cameraPoint: Point): geomPath {\n",
    "        val pointsOnScreen = getPointsOnScreen(cameraPoint)\n",
    "        return geomPath(\n",
    "            mapOf(\n",
    "                \"x\" to pointsOnScreen.map { it.first },\n",
    "                \"y\" to pointsOnScreen.map { it.second })\n",
    "        )\n",
    "    }\n",
    "}\n",
    "\n",
    "class Square {\n",
    "    val points: List<Point>\n",
    "\n",
    "    constructor(centerPoint: Point, size: Float) {\n",
    "        points = listOf(\n",
    "            Point(centerPoint.x + size, centerPoint.y - size, centerPoint.z),\n",
    "            Point(centerPoint.x + size, centerPoint.y + size, centerPoint.z),\n",
    "            Point(centerPoint.x - size, centerPoint.y + size, centerPoint.z),\n",
    "            Point(centerPoint.x - size, centerPoint.y - size, centerPoint.z),\n",
    "            Point(centerPoint.x + size, centerPoint.y - size, centerPoint.z + size),\n",
    "            Point(centerPoint.x + size, centerPoint.y + size, centerPoint.z + size),\n",
    "            Point(centerPoint.x - size, centerPoint.y + size, centerPoint.z + size),\n",
    "            Point(centerPoint.x - size, centerPoint.y - size, centerPoint.z + size),\n",
    "        )\n",
    "    }\n",
    "\n",
    "    fun getPointsOnScreen(cameraPoint: Point): List<Pair<Float, Float>> {\n",
    "        return points.map { it.getPointOnScreen(cameraPoint) }\n",
    "    }\n",
    "}\n",
    "\n",
    "// Defines the point of the camera in 3D space.\n",
    "// The camera has to be in front if the screen whitch means that the z coordinate has to be negative.\n",
    "val camera = Point(2f, 0f, -1f)\n",
    "\n",
    "\n",
    "// Create two lines in the 3D space\n",
    "val line = Line(Point(0f, 5f, 0f), Point(0f, 0f, 0f))\n",
    "val line2 = Line(Point(0f, 5f, 4f), Point(0f, 0f, 4f))\n",
    "\n",
    "// Create a 2d plot that represents the screen with x and y axis\n",
    "val plot = letsPlot() { x = \"x\"; y = \"y\" }\n",
    "\n",
    "// Plot the lines on the screen\n",
    "plot + line.getGeomPath(camera) + line2.getGeomPath(camera)\n",
    "\n",
    "\n"
   ],
   "metadata": {
    "collapsed": false,
    "ExecuteTime": {
     "end_time": "2024-05-06T10:49:30.180522500Z",
     "start_time": "2024-05-06T10:49:29.856067400Z"
    }
   }
  },
  {
   "cell_type": "code",
   "outputs": [],
   "source": [],
   "metadata": {
    "collapsed": false
   }
  }
 ],
 "metadata": {
  "kernelspec": {
   "display_name": "Kotlin",
   "language": "kotlin",
   "name": "kotlin"
  },
  "language_info": {
   "name": "kotlin",
   "version": "1.9.0",
   "mimetype": "text/x-kotlin",
   "file_extension": ".kt",
   "pygments_lexer": "kotlin",
   "codemirror_mode": "text/x-kotlin",
   "nbconvert_exporter": ""
  }
 },
 "nbformat": 4,
 "nbformat_minor": 0
}
