{
 "cells": [
  {
   "cell_type": "markdown",
   "source": [
    "# Here is a demonstation of raytracing in Kotlin"
   ],
   "metadata": {
    "collapsed": false
   }
  },
  {
   "cell_type": "code",
   "execution_count": 24,
   "outputs": [
    {
     "name": "stdout",
     "output_type": "stream",
     "text": [
      "[(0.2857143, -0.2857143), (0.2857143, 0.2857143), (-0.2857143, 0.2857143), (-0.2857143, -0.2857143), (0.22222222, -0.22222222), (0.22222222, 0.22222222), (-0.22222222, 0.22222222), (-0.22222222, -0.22222222)]"
     ]
    },
    {
     "data": {
      "text/html": "   <div id=\"OeQ1ep\"></div>\n   <script type=\"text/javascript\" data-lets-plot-script=\"plot\">\n       (function() {\n           var plotSpec={\n\"mapping\":{\n\"x\":\"x\",\n\"y\":\"y\"\n},\n\"data\":{\n\"x\":[0.2857142984867096,0.2857142984867096,-0.2857142984867096,-0.2857142984867096,0.2222222238779068,0.2222222238779068,-0.2222222238779068,-0.2222222238779068],\n\"y\":[-0.2857142984867096,0.2857142984867096,0.2857142984867096,-0.2857142984867096,-0.2222222238779068,0.2222222238779068,0.2222222238779068,-0.2222222238779068]\n},\n\"kind\":\"plot\",\n\"scales\":[],\n\"layers\":[{\n\"mapping\":{\n},\n\"stat\":\"identity\",\n\"position\":\"identity\",\n\"geom\":\"point\",\n\"data\":{\n}\n}]\n};\n           var plotContainer = document.getElementById(\"OeQ1ep\");\n           window.letsPlotCall(function() {{\n               LetsPlot.buildPlotFromProcessedSpecs(plotSpec, -1, -1, plotContainer);\n           }});\n       })();    \n   </script>"
     },
     "execution_count": 24,
     "metadata": {},
     "output_type": "execute_result"
    }
   ],
   "source": [
    "class Point(\n",
    "    var x: Float = 0f,\n",
    "    var y: Float = 0f,\n",
    "    var z: Float = 0f\n",
    ") {\n",
    "    fun getPointOnScreen(cameraPoint: Point): Pair<Float, Float> {\n",
    "\n",
    "        if (z <= 0) {\n",
    "            throw IllegalArgumentException(\"The point is behind the screen\")\n",
    "        }\n",
    "\n",
    "        // The focal length is the distance between the camera and the screen.\n",
    "        val focalLength = cameraPoint.z * -1\n",
    "\n",
    "        // The distance between the point and the camera.\n",
    "        val zDistance = z - cameraPoint.z\n",
    "\n",
    "        // the x and y coordinates of the point on the screen.\n",
    "        val xProjected = (x * focalLength) / (focalLength + zDistance)\n",
    "\n",
    "        val yProjected = (y * focalLength) / (focalLength + zDistance)\n",
    "\n",
    "        return Pair(xProjected, yProjected)\n",
    "    }\n",
    "}\n",
    "\n",
    "// Defines the point of the camera in 3D space.\n",
    "// The camera has to be in front if the screen whitch means that the z coordinate has to be negative.\n",
    "val camera = Point(0f, 0f, -1f)\n",
    "\n",
    "// Defines all the points of a square in 3D space.\n",
    "val square: List<Point> = listOf(\n",
    "    Point(2f, -2f, 5f),\n",
    "    Point(2f, 2f, 5f),\n",
    "    Point(-2f, 2f, 5f),\n",
    "    Point(-2f, -2f, 5f),\n",
    "    Point(2f, -2f, 7f),\n",
    "    Point(2f, 2f, 7f),\n",
    "    Point(-2f, 2f, 7f),\n",
    "    Point(-2f, -2f, 7f),\n",
    ")\n",
    "\n",
    "// Get the points coordinates on the screen.\n",
    "val pointsOnScreen = square.map { it.getPointOnScreen(camera) }\n",
    "\n",
    "\n",
    "// Display the data on a plot\n",
    "val data = mapOf(\"x\" to pointsOnScreen.map { it.first }, \"y\" to pointsOnScreen.map { it.second })\n",
    "val plot = letsPlot(data) { x = \"x\"; y = \"y\" }\n",
    "val points = geomPoint()\n",
    "plot + points\n",
    "\n",
    "\n"
   ],
   "metadata": {
    "collapsed": false,
    "ExecuteTime": {
     "end_time": "2024-05-05T11:43:24.899951400Z",
     "start_time": "2024-05-05T11:43:24.727857300Z"
    }
   }
  },
  {
   "cell_type": "code",
   "execution_count": 17,
   "outputs": [],
   "source": [],
   "metadata": {
    "collapsed": false,
    "ExecuteTime": {
     "end_time": "2024-05-05T11:41:02.155405600Z",
     "start_time": "2024-05-05T11:41:02.131327200Z"
    }
   }
  }
 ],
 "metadata": {
  "kernelspec": {
   "display_name": "Kotlin",
   "language": "kotlin",
   "name": "kotlin"
  },
  "language_info": {
   "name": "kotlin",
   "version": "1.9.0",
   "mimetype": "text/x-kotlin",
   "file_extension": ".kt",
   "pygments_lexer": "kotlin",
   "codemirror_mode": "text/x-kotlin",
   "nbconvert_exporter": ""
  }
 },
 "nbformat": 4,
 "nbformat_minor": 0
}
